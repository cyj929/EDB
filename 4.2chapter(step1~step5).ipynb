{
 "cells": [
  {
   "cell_type": "markdown",
   "metadata": {
    "isInteractiveWindowMessageCell": true
   },
   "source": [
    "Connected to Python 3.10.11"
   ]
  },
  {
   "cell_type": "markdown",
   "metadata": {},
   "source": [
    "4.2 최적화 구현 단계의 step1~step5 까지의 4.3 서비스 활용 시나리오 출력 결과 "
   ]
  },
  {
   "cell_type": "code",
   "execution_count": 35,
   "metadata": {},
   "outputs": [
    {
     "name": "stdout",
     "output_type": "stream",
     "text": [
      "Table 1 DataFrame:\n",
      "   disability_code disability_type severity\n",
      "0            A00\\r             자폐성       중증\n",
      "1            A01\\r             자폐셩       경증\n",
      "2             AR00              청각       중증\n",
      "3             AR01              청각       경증\n",
      "4            B00\\r             뇌병변       중증\n",
      "5            B01\\r             뇌병변       경증\n",
      "6            E00\\r             뇌전증       중증\n",
      "7            E01\\r             뇌전증       경증\n",
      "8            F00\\r              안면       중증\n",
      "9            F01\\r              안면       경증\n",
      "10           H00\\r              심장       중증\n",
      "11           H01\\r              심장       경증\n",
      "12           I00\\r              지적       중증\n",
      "13           I01\\r              지적       경증\n",
      "14           K00\\r              신장       중증\n",
      "15           K01\\r              신장       경증\n",
      "16           L00\\r               간       중증\n",
      "17           L01\\r               간       경증\n",
      "18            LA00              언어       중증\n",
      "19            LA01              언어       경증\n",
      "20           M00\\r              정신       중증\n",
      "21           M01\\r              정신       경증\n",
      "22           O00\\r            장루요루       중증\n",
      "23           O01\\r            장루요루       경증\n",
      "24           P00\\r              지체       중증\n",
      "25           P01\\r              지체       경증\n",
      "26           R00\\r             호흡기       중증\n",
      "27           R01\\r             호흡기       경증\n",
      "28           V00\\r              시각       중증\n",
      "29           V01\\r              시각       경증\n",
      "\n",
      "Table 2 DataFrame:\n",
      "           disabilityID disability_code\n",
      "0     10253220785109560           A00\\r\n",
      "1     11279457656412180           A00\\r\n",
      "2     11500615610432990           A00\\r\n",
      "3     11646670190805280           A00\\r\n",
      "4     11883781264081550           A00\\r\n",
      "...                 ...             ...\n",
      "3337  98835870725254448           V01\\r\n",
      "3338  98873418268834192           V01\\r\n",
      "3339  99349030467502016           V01\\r\n",
      "3340  99597743769644304           V01\\r\n",
      "3341  99731747774590128           V01\\r\n",
      "\n",
      "[3342 rows x 2 columns]\n",
      "\n",
      "Table 3 DataFrame:\n",
      "      Riding_Number       disabilityID destination_code  \\\n",
      "0              4096  74379012848478224             E065   \n",
      "1              4097  80504057354416496             R012   \n",
      "2              4098  89353846656366848             E081   \n",
      "3              4099  55702327554276704             W023   \n",
      "4              4100  85078463513910336             E008   \n",
      "...             ...                ...              ...   \n",
      "2557           6653  38882514853191744             E062   \n",
      "2558           6654  29726665748477740             E041   \n",
      "2559           6655  98266240367284688             S018   \n",
      "2560           6656  16420926661082650             W020   \n",
      "2561           6657  83782310860989648             E064   \n",
      "\n",
      "      Passenger_Location_Longitude  Passenger_Location_Latitude  \n",
      "0                       126.819905                    37.558228  \n",
      "1                       126.791311                    37.547654  \n",
      "2                       126.855528                    37.545015  \n",
      "3                       126.805090                    37.573139  \n",
      "4                       126.807136                    37.594997  \n",
      "...                            ...                          ...  \n",
      "2557                    126.783549                    37.551417  \n",
      "2558                    126.856054                    37.531279  \n",
      "2559                    126.830857                    37.558840  \n",
      "2560                    126.839932                    37.545124  \n",
      "2561                    126.831214                    37.561916  \n",
      "\n",
      "[2562 rows x 5 columns]\n",
      "\n",
      "Table 4 DataFrame:\n",
      "    destination_code  destination_latitude  destination_longitude\n",
      "0               E001             37.570461             126.818520\n",
      "1               E002             37.557822             126.850596\n",
      "2               E003             37.539489             126.863403\n",
      "3               E004             37.548623             126.829025\n",
      "4               E005             37.548623             126.829025\n",
      "..               ...                   ...                    ...\n",
      "189             W019             37.556318             126.811271\n",
      "190             W020             37.562841             126.814026\n",
      "191             W021             37.541143             126.845469\n",
      "192             W022             37.549281             126.851412\n",
      "193             W023             37.566612             126.841403\n",
      "\n",
      "[194 rows x 3 columns]\n"
     ]
    }
   ],
   "source": [
    "\n",
    "import mysql.connector # mysql workbench에 접근하기 위한 라이브러리\n",
    "import pandas as pd # DB에서 가져온 테이블을 dataframe으로 바꾸기 위한 pandas 라이브러리\n",
    "\n",
    "# mysql workbench에 접근하기 위해 필요한 workbench 정보 입력\n",
    "host = '127.0.0.1'\n",
    "user = 'root'\n",
    "password = 'autoset'\n",
    "database = 'busroute'\n",
    "\n",
    "# MySQL server에 mysql.connector.connect를 이용해 연결한다. \n",
    "conn = mysql.connector.connect(host=host, user=user, password=password, database=database)\n",
    "\n",
    "# SQL 쿼리를 실행할 커서 개체를 만든다. \n",
    "''' 커서 객체는 sql 쿼리를 실행하고 결과를 가져오는데 사용된다.'''\n",
    "cursor = conn.cursor()\n",
    "\n",
    "# sql 쿼리를 실행하여 테이블의 값들을 가져온다. \n",
    "table1_query = 'SELECT * FROM disabilityinformation'\n",
    "cursor.execute(table1_query)\n",
    "table1_data = cursor.fetchall()\n",
    "columns1 = [i[0] for i in cursor.description]\n",
    "\n",
    "'''sql 쿼리를 정의하고 실행한다.\n",
    "\n",
    "그 결과를 fetchall() 메서드를 사용해 가져오고 \n",
    "각 열의 이름을 'cursor.description'에서 추출하여\n",
    "columns1에 저장한다. \n",
    "fetchall:쿼리 결과 집합의 모든 행을 검색하는 메소드 -> table1_data 변수에 저장\n",
    "cursor.description: 열에 대한 정보 추출할 때 사용 -> colums1에 리스트로 저장'''\n",
    "\n",
    "table2_query = 'SELECT * FROM passengerdisabilitycode'\n",
    "cursor.execute(table2_query)\n",
    "table2_data = cursor.fetchall()\n",
    "columns2 = [i[0] for i in cursor.description]\n",
    "\n",
    "table3_query = 'SELECT * FROM shuttlebus'\n",
    "cursor.execute(table3_query)\n",
    "table3_data = cursor.fetchall()\n",
    "columns3 = [i[0] for i in cursor.description]\n",
    "\n",
    "\n",
    "table4_query = 'SELECT * FROM destinationlocation'\n",
    "cursor.execute(table4_query)\n",
    "table4_data = cursor.fetchall()\n",
    "columns4 = [i[0] for i in cursor.description]\n",
    "\n",
    "#연결된 커서와 데이터베이스 연결을 닫는다.\n",
    "cursor.close()\n",
    "conn.close()\n",
    "\n",
    "# 읽어온 각 테이블의 정보를 데이터 프레임으로 만들어 각각의 변수에 할당한다. \n",
    "table1_df = pd.DataFrame(table1_data, columns=columns1)\n",
    "table2_df = pd.DataFrame(table2_data, columns=columns2)\n",
    "table3_df = pd.DataFrame(table3_data, columns=columns3)\n",
    "table4_df = pd.DataFrame(table4_data, columns=columns4)\n",
    "\n",
    "# 만든 최종 데이터 프레임들을 출력한다. \n",
    "print('Table 1 DataFrame:')\n",
    "print(table1_df)\n",
    "\n",
    "\n",
    "print('\\nTable 2 DataFrame:')\n",
    "print(table2_df)\n",
    "\n",
    "print('\\nTable 3 DataFrame:')\n",
    "print(table3_df)\n",
    "\n",
    "print('\\nTable 4 DataFrame:')\n",
    "print(table4_df)"
   ]
  },
  {
   "cell_type": "code",
   "execution_count": 36,
   "metadata": {},
   "outputs": [],
   "source": [
    "disabilityinformation = table1_df \n",
    "\n",
    "passengerdisabilitycode = table2_df \n",
    "\n",
    "riding_history = table3_df\n",
    "\n",
    "destination_location = table4_df "
   ]
  },
  {
   "cell_type": "code",
   "execution_count": 37,
   "metadata": {},
   "outputs": [],
   "source": [
    "#위도, 경도, 장애등록번호 컬럼을 Select\n",
    "selected_columns = ['Passenger_Location_Latitude', 'Passenger_Location_Longitude', 'disabilityID']\n",
    "\n",
    "#subset_data에 호출 목록 테이블에서 목적지 코드가 'W018'인 곳의 위도, 경도, 고객의 장애등록번호를 저장.\n",
    "subset_data = riding_history.loc[riding_history['destination_code'] == 'E018', selected_columns]\n",
    "\n",
    "# 동일한 목적지를 가는 동일한 고객의 기록이 두 개인 경우, 하나를 선택, 즉 중복을 제거\n",
    "# 중복을 제거한 특정 목적지 'W018'에 가고자 하는 고객의 장애등록번호의 배열을 'info_list'로 지정  \n",
    "# 이로써 info_list에는 중복되는 고객의 정보(장애등록번호)가 없음 \n",
    "info_list = set(subset_data['disabilityID'])"
   ]
  },
  {
   "cell_type": "code",
   "execution_count": 38,
   "metadata": {},
   "outputs": [],
   "source": [
    "# 한 사람이 여러 개의 장애 코드를 가질 수 있기에, 장애 코드 테이블에서 'WO18'을 가고자 하는\n",
    "# 'info_list'에 해당하는 고객의 정보만 추출하여 result_disability_code 에 저장 \n",
    "result_disability_code = passengerdisabilitycode[passengerdisabilitycode['disabilityID'].isin(info_list)]\n",
    "\n",
    "# W018에 가고자 하는 고객의 정보만 모은 장애 코드 테이블에서 장애 코드 컬럼의 값만 list_of_code에 저장. \n",
    "list_of_code = list(result_disability_code['disability_code'])"
   ]
  },
  {
   "cell_type": "code",
   "execution_count": 39,
   "metadata": {},
   "outputs": [
    {
     "name": "stderr",
     "output_type": "stream",
     "text": [
      "<ipython-input-39-3bf4b6f2ef5a>:9: SettingWithCopyWarning: \n",
      "A value is trying to be set on a copy of a slice from a DataFrame.\n",
      "Try using .loc[row_indexer,col_indexer] = value instead\n",
      "\n",
      "See the caveats in the documentation: https://pandas.pydata.org/pandas-docs/stable/user_guide/indexing.html#returning-a-view-versus-a-copy\n",
      "  result_disability_code['disability_code'] = result_disability_code['disability_code'].str.strip().str.replace(r'\\r', '')\n"
     ]
    }
   ],
   "source": [
    "mydir = r'C:\\Users\\yeeun\\OneDrive\\바탕 화면\\3-2\\엔지니어링DB\\데이터 생성 csv\\최종엑셀'\n",
    "\n",
    "# 장애 코드 별 가중치에 대한 엑셀파일을 불러옴. \n",
    "disability_weight = pd.read_excel(mydir+'\\\\장애 코드별 가중치.xlsx') \n",
    "\n",
    "# Clean the data by stripping whitespaces and carriage returns\n",
    "result_disability_code['disability_code'] = result_disability_code['disability_code'].str.strip().str.replace(r'\\r', '')\n",
    "disability_weight['장애코드'] = disability_weight['장애코드'].str.strip().str.replace(r'\\r', '')"
   ]
  },
  {
   "cell_type": "code",
   "execution_count": 40,
   "metadata": {},
   "outputs": [
    {
     "name": "stderr",
     "output_type": "stream",
     "text": [
      "<ipython-input-40-28f3bc3a487c>:4: SettingWithCopyWarning: \n",
      "A value is trying to be set on a copy of a slice from a DataFrame.\n",
      "Try using .loc[row_indexer,col_indexer] = value instead\n",
      "\n",
      "See the caveats in the documentation: https://pandas.pydata.org/pandas-docs/stable/user_guide/indexing.html#returning-a-view-versus-a-copy\n",
      "  result_disability_code['weight'] = disability_weight.set_index('장애코드')['가중치'].loc[result_disability_code['disability_code']].values\n",
      "<ipython-input-40-28f3bc3a487c>:7: SettingWithCopyWarning: \n",
      "A value is trying to be set on a copy of a slice from a DataFrame\n",
      "\n",
      "See the caveats in the documentation: https://pandas.pydata.org/pandas-docs/stable/user_guide/indexing.html#returning-a-view-versus-a-copy\n",
      "  result_disability_code.drop_duplicates(subset=['disability_code', 'disabilityID'], keep='first', inplace=True)\n"
     ]
    }
   ],
   "source": [
    "# '가중치'라는 컬럼을 만들어서 특정 장애코드에 해당하는 가중치를 대입\n",
    "result_disability_code['weight'] = disability_weight.set_index('장애코드')['가중치'].loc[result_disability_code['disability_code']].values\n",
    "\n",
    "# 장애등록번호와 장애코드 두 개의 컬럼 값이 모두 동일하다면, 즉 완전히 중복되는 정보일 경우 제거. \n",
    "result_disability_code.drop_duplicates(subset=['disability_code', 'disabilityID'], keep='first', inplace=True)\n",
    "\n",
    "# 장애가 여러 개 있는 고객도 있기에 가중치를 합하여 'sum of weight'이라는 컬럼 만들어줌. \n",
    "weighted_sum_df = result_disability_code.groupby('disabilityID')['weight'].sum().reset_index(name='sum of weight')\n",
    "\n",
    "# 앞서 만든 subset_data라는 테이블(목적지 코드가 'W018'인 곳의 위도, 경도, 고객의 장애등록번호)과\n",
    "# 고객별 장애 유형, 중증도에 따른 가중치 합 컬럼이 합쳐진 'merged_df'라는 데이터프레임을 만들어서 저장 \n",
    "merged_df = pd.merge(subset_data, weighted_sum_df[['disabilityID', 'sum of weight']], left_on='disabilityID', right_on='disabilityID', how='left')"
   ]
  },
  {
   "cell_type": "code",
   "execution_count": 41,
   "metadata": {},
   "outputs": [],
   "source": [
    "# 고객의 수가 10 이상인 경우, 해당 셀을 실행하여 가중치 값이 높은 특정 고객의 현위치만 정류소로 선정\n",
    "\n",
    "# 가중치 오름차순으로 정렬 \n",
    "merged_df_sorted = merged_df.sort_values(by='sum of weight', ascending = False)\n",
    "\n",
    "# 전체 고객 수에서 가중치가 높은 75%의 고객의 현위치만 추출\n",
    "percentage = 0.75\n",
    "\n",
    "rows_to_keep = round(len(merged_df_sorted) * percentage)\n",
    "\n",
    "#new_df 라는 새로운 데이터프레임으로 저장\n",
    "#new_df는 ('장애등록번호', '위도', '경도', '가중치합')에 대한 정보가 저장된 데이터프레임 \n",
    "new_df = merged_df_sorted.head(rows_to_keep)"
   ]
  },
  {
   "cell_type": "code",
   "execution_count": 42,
   "metadata": {},
   "outputs": [],
   "source": [
    "# 목적지의 위치(위도, 경도)와 고객의 현위치(위도, 경도)를 합쳐 위치 정보로서 저장\n",
    "selected = ['destination_latitude', 'destination_longitude']\n",
    "des_x_y = destination_location.loc[destination_location['destination_code'] == 'E018', selected]"
   ]
  },
  {
   "cell_type": "code",
   "execution_count": 43,
   "metadata": {},
   "outputs": [
    {
     "name": "stdout",
     "output_type": "stream",
     "text": [
      "['126.8533266789011', '126.8009165760052', '126.8497874229351', '126.7867543796751', '126.7866127944142', '126.8103656606485', '126.789881276027', '126.8265537002391', '126.8636211']\n",
      "['37.55857135261515', '37.56491768571411', '37.56556715776191', '37.57486868553623', '37.54867709015525', '37.57006611649995', '37.54641943268085', '37.562099718106', '37.56043066']\n"
     ]
    }
   ],
   "source": [
    "points_x = list(new_df['Passenger_Location_Longitude']) # 경도 \n",
    "\n",
    "points_y = list(new_df['Passenger_Location_Latitude']) # 위도 \n",
    "\n",
    "# points_x는 노드의 위도 정보를 담은 리스트, points_y는 노드의 경도 정보를 담은 리스트 \n",
    "points_x.append(des_x_y.iloc[0,1])\n",
    "points_y.append(des_x_y.iloc[0,0])\n",
    "x_str = [str(value) for value in points_x]\n",
    "y_str = [str(value) for value in points_y]\n",
    "\n",
    "print(x_str)\n",
    "print(y_str)"
   ]
  },
  {
   "cell_type": "code",
   "execution_count": 45,
   "metadata": {},
   "outputs": [],
   "source": [
    "import requests\n",
    "\n",
    "# Replace YOUR_REST_API_KEY with your actual Kakao API key\n",
    "REST_API_KEY = \"8f86dd860f90ae51e8c091ccad3fbe75\"\n",
    "\n",
    "url = \"https://apis-navi.kakaomobility.com/v1/origins/directions\"\n",
    "\n",
    "headers = {\n",
    "    \"Content-Type\": \"application/json\",\n",
    "    \"Authorization\": f\"KakaoAK {REST_API_KEY}\"\n",
    "}\n",
    "\n",
    "points = [{'x': x, 'y': y, 'key': str(i)} for i, (x, y) in enumerate(zip(x_str, y_str))]\n",
    "\n",
    "num_points = len(points)\n",
    "distance_matrix = [[0] * num_points for _ in range(num_points)]"
   ]
  },
  {
   "cell_type": "code",
   "execution_count": 46,
   "metadata": {},
   "outputs": [
    {
     "name": "stdout",
     "output_type": "stream",
     "text": [
      "[0, 6276, 1144, 7317, 8888, 5023, 8497, 3435, 1291]\n",
      "[6331, 0, 5658, 3904, 6799, 1995, 6408, 3429, 7145]\n",
      "[1252, 5548, 0, 6589, 8674, 4295, 8283, 2891, 1611]\n",
      "[7421, 3145, 6585, 0, 6598, 3236, 8677, 5036, 8072]\n",
      "[9262, 7115, 8589, 5907, 0, 7469, 1287, 6360, 10076]\n",
      "[5139, 1917, 4303, 2958, 7020, 0, 6629, 2267, 5790]\n",
      "[8502, 6355, 7829, 6440, 480, 6709, 0, 5600, 9316]\n",
      "[4222, 3328, 3549, 5227, 6208, 2136, 5817, 0, 5036]\n",
      "[1428, 6992, 1748, 8105, 9462, 5811, 9071, 4089, 0]\n"
     ]
    }
   ],
   "source": [
    "for i in range(num_points):\n",
    "    for j in range(num_points):\n",
    "        if i == j: \n",
    "            distance_matrix[i][j] = 0\n",
    "        else:\n",
    "            data = {\n",
    "                'origins': [points[i]],\n",
    "                'destination': points[j],\n",
    "                'radius': 10000,\n",
    "                'priority': 'DISTANCE'\n",
    "            }\n",
    "\n",
    "            response = requests.post(url, headers=headers, json=data)\n",
    "\n",
    "            try:\n",
    "                # Extract the distance information correctly\n",
    "                distance = response.json()['routes'][0]['summary']['distance']\n",
    "\n",
    "                distance_matrix[i][j] = distance\n",
    "# 예은이 코드\n",
    "# except (KeyError, IndexError, TypeError):\n",
    "# print(f\"Error processing response for points {i} to {j}. Check the API response structure.\")\n",
    "\n",
    "            except Exception as e:\n",
    "                print(f\"Error processing response for points {i} to {j}. Exception: {e}\")\n",
    "                print(\"Response content:\", response.text)\n",
    "\n",
    "# Print the distance matrix\n",
    "for row in distance_matrix:\n",
    "    print(row)"
   ]
  }
 ],
 "metadata": {
  "kernelspec": {
   "display_name": "Python 3",
   "language": "python",
   "name": "python3"
  },
  "language_info": {
   "codemirror_mode": {
    "name": "ipython",
    "version": 3
   },
   "file_extension": ".py",
   "mimetype": "text/x-python",
   "name": "python",
   "nbconvert_exporter": "python",
   "pygments_lexer": "ipython3",
   "version": "3.10.7"
  }
 },
 "nbformat": 4,
 "nbformat_minor": 2
}
