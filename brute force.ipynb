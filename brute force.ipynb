{
 "cells": [
  {
   "cell_type": "code",
   "execution_count": 3,
   "source": [
    "from itertools import permutations\n",
    "# permutations 함수를 사용하기 위해 itertools 모듈을 가져온다.\n",
    "# permutations 함수는 주어진 iterable의 모든 순열을 생성한다. \n",
    "\n",
    "# 총 거리를 계산하는 함수이다.\n",
    "def calculate_total_distance(path, distance_matrix):\n",
    "    total_distance = 0\n",
    "    for i in range(len(path) - 1):\n",
    "        total_distance += distance_matrix[path[i]][path[i + 1]]\n",
    "    return total_distance\n",
    "\n",
    "#거리 행렬을 이용해 가장 짧은 경로와 이동거리를 찾는 함수이다. \n",
    "def find_shortest_route(distance_matrix):\n",
    "    num_nodes = len(distance_matrix)\n",
    "    nodes = list(range(num_nodes))\n",
    "    start_node = num_nodes - 1  \n",
    "    #start node는 시작 및 종료지점으로 거리 행렬의 가장 마지막 열과 행에 해당한다. \n",
    "    \n",
    "    # permutations함수를 사용해 모든 가능한 경로를 생성한다. \n",
    "    all_routes = permutations(nodes[:-1])  \n",
    "    ''' 시작 노드와 종료 노드는 정해져있으므로 시작 및 종료 지점이\n",
    "    노드를 제외하고 나머지 노드들의 순열을 생성한다. '''\n",
    "\n",
    "    # 가장 짧은 경로와 이동 거리를 저장할 변수를 초기화 한다.\n",
    "    shortest_route = None\n",
    "    shortest_distance = float('inf')\n",
    "\n",
    "\n",
    "    for route in all_routes:\n",
    "        current_route = [start_node] + list(route) + [start_node]\n",
    "        total_distance = calculate_total_distance(current_route, distance_matrix)\n",
    "\n",
    "        ''' 각 순열에 대해 시작 노드와 종료 노드를 추가하여 경로를 만들고,\n",
    "        calculate_total_distance 함수를 사용해 이동거리를 계산한다.'''\n",
    "        if total_distance < shortest_distance:\n",
    "            shortest_distance = total_distance\n",
    "            shortest_route = current_route\n",
    "        ''' 현재 경로의 이동거리가 현재 까지의 최단 거리보다 짧으면, 최단 거리와 최단 경로를 갱신한다.'''\n",
    "    return shortest_route, shortest_distance\n",
    "''' 최단 경로와 최단 거리를 반환한다.'''\n",
    "\n",
    "# 구한 거리 행렬을 입력해준다.\n",
    "distance_matrix = [[0, 6276, 1144, 7317, 8888, 5023, 8497, 3435, 1291],\n",
    "[6331, 0, 5658, 3904, 6799, 1995, 6408, 3429, 7145],\n",
    "[1252, 5548, 0, 6589, 8674, 4295, 8283, 2891, 1611],\n",
    "[7421, 3145, 6585, 0, 6598, 3236, 8677, 5036, 8072],\n",
    "[9262, 7115, 8589, 5907, 0, 7469, 1287, 6360, 10076],\n",
    "[5139, 1917, 4303, 2958, 7020, 0, 6629, 2267, 5790],\n",
    "[8502, 6355, 7829, 6440, 480, 6709, 0, 5600, 9316],\n",
    "[4222, 3328, 3549, 5227, 6208, 2136, 5817, 0, 5036],\n",
    "[1428, 6992, 1748, 8105, 9462, 5811, 9071, 4089, 0]]\n",
    "\n",
    "# 최단 경로와 최단 경로의 거리를 각각 shortest_route, shortest_distance에 넣는다. \n",
    "shortest_route, shortest_distance = find_shortest_route(distance_matrix)\n",
    "\n",
    "print(\"Shortest Route:\", shortest_route)\n",
    "print(\"Shortest Distance:\", shortest_distance)\n",
    "\n",
    "# 나온 결과를 출력한다. "
   ],
   "outputs": [
    {
     "output_type": "stream",
     "name": "stdout",
     "text": [
      "Shortest Route: [8, 0, 7, 6, 4, 3, 1, 5, 2, 8]\n",
      "Shortest Distance: 28121\n"
     ]
    }
   ],
   "metadata": {}
  }
 ],
 "nbformat": 4,
 "nbformat_minor": 2,
 "metadata": {
  "language_info": {
   "codemirror_mode": {
    "name": "ipython",
    "version": 3
   },
   "file_extension": ".py",
   "mimetype": "text/x-python",
   "name": "python",
   "nbconvert_exporter": "python",
   "pygments_lexer": "ipython3",
   "version": 3
  }
 }
}