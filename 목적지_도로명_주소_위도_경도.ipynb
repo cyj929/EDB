{
  "nbformat": 4,
  "nbformat_minor": 0,
  "metadata": {
    "colab": {
      "provenance": []
    },
    "kernelspec": {
      "name": "python3",
      "display_name": "Python 3"
    },
    "language_info": {
      "name": "python"
    }
  },
  "cells": [
    {
      "cell_type": "code",
      "source": [
        "import pandas as pd\n",
        "\n",
        "def addr_to_lat_lon(addr):\n",
        "    url = 'https://dapi.kakao.com/v2/local/search/address.json?query={address}'.format(address=addr)\n",
        "    headers = {\"Authorization\": \"KakaoAK \" + 'bd71f17b286ef5148e2d7bf9fe27783f'}\n",
        "    result = requests.get(url, headers=headers).json()\n",
        "    match_first = result['documents'][0]['address']\n",
        "    return float(match_first['x']), float(match_first['y'])\n",
        "\n",
        "# Read addresses from Excel file into a DataFrame\n",
        "file_path = \"/content/destination.xlsx\"  # Replace with your file path\n",
        "df = pd.read_excel(file_path)\n",
        "\n",
        "# Create empty lists to store latitude and longitude values\n",
        "latitudes = []\n",
        "longitudes = []\n",
        "\n",
        "# Perform address to latitude and longitude conversion for each address in the DataFrame\n",
        "for index, row in df.iterrows():\n",
        "    address = row['address']  # Replace 'Address_column_name' with the actual column name in your Excel file\n",
        "    try:\n",
        "        lat, lon = addr_to_lat_lon(address)\n",
        "        latitudes.append(lat)\n",
        "        longitudes.append(lon)\n",
        "    except IndexError:\n",
        "        latitudes.append(None)\n",
        "        longitudes.append(None)\n",
        "\n",
        "# Add latitude and longitude columns to the DataFrame\n",
        "df['Latitude'] = latitudes\n",
        "df['Longitude'] = longitudes\n",
        "\n",
        "# Save the DataFrame with latitude and longitude information to a new Excel file\n",
        "output_file_path = \"output_with_coordinates.xlsx\"\n",
        "df.to_excel(output_file_path, index=False)\n",
        "\n",
        "print(f\"Latitude and longitude values added to the DataFrame. Output saved to {output_file_path}\")"
      ],
      "metadata": {
        "colab": {
          "base_uri": "https://localhost:8080/"
        },
        "id": "atRP0p22KqW9",
        "outputId": "cdb245e8-1da1-4fd9-b938-291214b30bbf"
      },
      "execution_count": null,
      "outputs": [
        {
          "output_type": "stream",
          "name": "stdout",
          "text": [
            "Latitude and longitude values added to the DataFrame. Output saved to output_with_coordinates.xlsx\n"
          ]
        }
      ]
    },
    {
      "cell_type": "code",
      "source": [
        "import pandas as pd\n",
        "import requests\n",
        "import json\n",
        "\n",
        "def get_location(address):\n",
        "    url = 'https://dapi.kakao.com/v2/local/search/address.json?query=' + address\n",
        "    # Replace {Issued Key} with your actual Kakao API key\n",
        "    headers = {\"Authorization\": \"KakaoAK {bd71f17b286ef5148e2d7bf9fe27783f}\"}\n",
        "    api_json = json.loads(requests.get(url, headers=headers).text)\n",
        "\n",
        "    if 'documents' in api_json and api_json['documents']:\n",
        "        address_info = api_json['documents'][0]['address']\n",
        "        crd = {\"lat\": str(address_info['y']), \"lng\": str(address_info['x'])}  # latitude, longitude\n",
        "        return crd\n",
        "    else:\n",
        "        return None\n",
        "\n",
        "def process_excel_file(file_path):\n",
        "    # Read Excel file into a DataFrame\n",
        "    df = pd.read_excel(file_path)\n",
        "\n",
        "    # Create new columns for latitude and longitude\n",
        "    df['Latitude'] = None\n",
        "    df['Longitude'] = None\n",
        "\n",
        "    # Iterate through each row and update latitude and longitude\n",
        "    for index, row in df.iterrows():\n",
        "        address = row['address']  # Replace with the actual column name in your Excel file\n",
        "        coordinates = get_location(address)\n",
        "\n",
        "        if coordinates:\n",
        "            df.at[index, 'Latitude'] = coordinates['lat']\n",
        "            df.at[index, 'Longitude'] = coordinates['lng']\n",
        "\n",
        "    # Save the updated DataFrame back to the Excel file\n",
        "    df.to_excel('output_file.xlsx', index=False)\n",
        "\n",
        "# Replace 'your_excel_file.xlsx' with the actual file path\n",
        "process_excel_file('/content/destination.xlsx')"
      ],
      "metadata": {
        "id": "0-YRv16VSoZZ"
      },
      "execution_count": null,
      "outputs": []
    },
    {
      "cell_type": "code",
      "source": [],
      "metadata": {
        "id": "K2zYkyVVN4vW"
      },
      "execution_count": null,
      "outputs": []
    }
  ]
}